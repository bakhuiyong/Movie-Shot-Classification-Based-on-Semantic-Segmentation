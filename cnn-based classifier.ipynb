{
 "cells": [
  {
   "cell_type": "code",
   "execution_count": 1,
   "metadata": {},
   "outputs": [],
   "source": [
    "import os\n",
    "os.environ['THEANO_FLAGS'] = \"device=gpu\"  "
   ]
  },
  {
   "cell_type": "code",
   "execution_count": 2,
   "metadata": {},
   "outputs": [],
   "source": [
    "from PIL import Image, ImageFile\n",
    "ImageFile.LOAD_TRUNCATED_IMAGES = True"
   ]
  },
  {
   "cell_type": "code",
   "execution_count": 3,
   "metadata": {},
   "outputs": [
    {
     "name": "stderr",
     "output_type": "stream",
     "text": [
      "Using TensorFlow backend.\n"
     ]
    },
    {
     "name": "stdout",
     "output_type": "stream",
     "text": [
      "Found 63313 images belonging to 4 classes.\n",
      "Found 27112 images belonging to 4 classes.\n",
      "Epoch 1/1000\n",
      "1978/1978 [==============================] - 817s 413ms/step - loss: 0.4524 - acc: 0.8375 - val_loss: 0.4673 - val_acc: 0.8425\n",
      "\n",
      "Epoch 00001: val_loss improved from inf to 0.46732, saving model to weights-improvement-01-0.84.hdf5\n",
      "Epoch 2/1000\n",
      "1978/1978 [==============================] - 595s 301ms/step - loss: 0.2025 - acc: 0.9320 - val_loss: 0.4509 - val_acc: 0.8551\n",
      "\n",
      "Epoch 00002: val_loss improved from 0.46732 to 0.45086, saving model to weights-improvement-02-0.86.hdf5\n",
      "Epoch 3/1000\n",
      "1978/1978 [==============================] - 595s 301ms/step - loss: 0.1502 - acc: 0.9490 - val_loss: 0.4612 - val_acc: 0.8571\n",
      "\n",
      "Epoch 00003: val_loss did not improve from 0.45086\n",
      "Epoch 4/1000\n",
      "1978/1978 [==============================] - 596s 301ms/step - loss: 0.1197 - acc: 0.9575 - val_loss: 0.4900 - val_acc: 0.8566\n",
      "\n",
      "Epoch 00004: val_loss did not improve from 0.45086\n",
      "Epoch 5/1000\n",
      "1978/1978 [==============================] - 596s 301ms/step - loss: 0.0987 - acc: 0.9661 - val_loss: 0.5339 - val_acc: 0.8484\n",
      "\n",
      "Epoch 00005: val_loss did not improve from 0.45086\n",
      "Epoch 6/1000\n",
      "1978/1978 [==============================] - 599s 303ms/step - loss: 0.0837 - acc: 0.9708 - val_loss: 0.5235 - val_acc: 0.8543\n",
      "\n",
      "Epoch 00006: val_loss did not improve from 0.45086\n",
      "Epoch 7/1000\n",
      "1978/1978 [==============================] - 593s 300ms/step - loss: 0.0717 - acc: 0.9757 - val_loss: 0.5235 - val_acc: 0.8595\n",
      "\n",
      "Epoch 00007: val_loss did not improve from 0.45086\n"
     ]
    }
   ],
   "source": [
    "import math, json, os, sys\n",
    "\n",
    "import keras\n",
    "from keras.callbacks import EarlyStopping, ModelCheckpoint\n",
    "from keras.layers import Dense\n",
    "from keras.models import Model\n",
    "from keras.optimizers import Adam\n",
    "from keras.preprocessing import image\n",
    "import keras.backend as K\n",
    "\n",
    "\n",
    "TRAIN_DIR = ''\n",
    "VALID_DIR = ''\n",
    "\n",
    "\n",
    "SIZE = (224, 224)\n",
    "BATCH_SIZE = 32\n",
    "\n",
    "\n",
    "if __name__ == \"__main__\":\n",
    "    num_train_samples = sum([len(files) for r, d, files in os.walk(TRAIN_DIR)]) #train data 수집\n",
    "    num_valid_samples = sum([len(files) for r, d, files in os.walk(VALID_DIR)]) #validation data 수집\n",
    "\n",
    "    num_train_steps = math.floor(num_train_samples/BATCH_SIZE) \n",
    "    num_valid_steps = math.floor(num_valid_samples/BATCH_SIZE)\n",
    "\n",
    "    gen = keras.preprocessing.image.ImageDataGenerator() # Train을 위한 DataGenerator 사용\n",
    "    val_gen = keras.preprocessing.image.ImageDataGenerator(horizontal_flip=True, vertical_flip=True)  # validation을 위한 DataGenerator 사용\n",
    "\n",
    "    batches = gen.flow_from_directory(TRAIN_DIR, target_size=SIZE, class_mode='categorical', shuffle=True, batch_size=BATCH_SIZE)\n",
    "    val_batches = val_gen.flow_from_directory(VALID_DIR, target_size=SIZE, class_mode='categorical', shuffle=True, batch_size=BATCH_SIZE)\n",
    "\n",
    "    model = keras.applications.resnet50.ResNet50() #디\n",
    "    \n",
    "\n",
    "    \n",
    "    classes = list(iter(batches.class_indices))\n",
    "    model.layers.pop()\n",
    "    \n",
    "    for layer in model.layers:\n",
    "        if hasattr(layer, 'moving_mean') and hasattr(layer, 'moving_variance'):\n",
    "            layer.trainable = True\n",
    "            K.eval(K.update(layer.moving_mean, K.zeros_like(layer.moving_mean)))\n",
    "            K.eval(K.update(layer.moving_variance, K.zeros_like(layer.moving_variance)))\n",
    "        else:\n",
    "            layer.trainable = False\n",
    "            \n",
    "    last = model.layers[-1].output\n",
    "    x = Dense(len(classes), activation=\"softmax\")(last)\n",
    "    finetuned_model = Model(model.input, x)\n",
    "    finetuned_model.compile(optimizer=Adam(lr=0.0001), loss='categorical_crossentropy', metrics=['accuracy'])\n",
    "    for c in batches.class_indices:\n",
    "        classes[batches.class_indices[c]] = c\n",
    "    finetuned_model.classes = classes\n",
    "    \n",
    "    fileName=\"weights-improvement-{epoch:02d}-{val_acc:.2f}.hdf5\"\n",
    "    early_stopping = EarlyStopping(monitor='val_loss', patience=5)\n",
    "    checkpointer = ModelCheckpoint(fileName, monitor='val_loss', verbose=1, save_best_only=True, mode='min')\n",
    "    \n",
    "    history = finetuned_model.fit_generator(batches, steps_per_epoch=num_train_steps, epochs=1000, callbacks=[early_stopping, checkpointer], validation_data=val_batches, validation_steps=num_valid_steps)\n",
    "    finetuned_model.save('resnet50_camera.h5')\n"
   ]
  },
  {
   "cell_type": "code",
   "execution_count": 4,
   "metadata": {},
   "outputs": [
    {
     "data": {
      "image/png": "[encoded data removed]",
      "text/plain": [
       "<Figure size 432x288 with 1 Axes>"
      ]
     },
     "metadata": {
      "needs_background": "light"
     },
     "output_type": "display_data"
    },
    {
     "data": {
      "image/png": "[encoded data removed]",
      "text/plain": [
       "<Figure size 432x288 with 1 Axes>"
      ]
     },
     "metadata": {
      "needs_background": "light"
     },
     "output_type": "display_data"
    }
   ],
   "source": [
    "import matplotlib.pylab as plt\n",
    "%matplotlib inline\n",
    "acc = history.history['acc']\n",
    "val_acc = history.history['val_acc']\n",
    "loss = history.history['loss']\n",
    "val_loss = history.history['val_loss']\n",
    "epochs = range(1, len(acc) + 1)\n",
    "plt.plot(epochs, acc, 'bo', label='Training acc')\n",
    "plt.plot(epochs, val_acc, 'r', label='Validation acc')\n",
    "plt.title('Training and validation accuracy')\n",
    "plt.legend()\n",
    "plt.figure()\n",
    "plt.plot(epochs, loss, 'bo', label='Training loss')\n",
    "plt.plot(epochs, val_loss, 'r', label='Validation loss')\n",
    "plt.title('Training and validation loss')\n",
    "plt.legend()\n",
    "plt.show()"
   ]
  },
  {
   "cell_type": "code",
   "execution_count": null,
   "metadata": {},
   "outputs": [],
   "source": [
    "from PIL import Image\n",
    "import os, glob, numpy as np\n",
    "from keras.models import load_model\n",
    "import time\n",
    "start = time.time() \n",
    "caltech_dir = \"\"\n",
    "image_w = 224\n",
    "image_h = 224\n",
    "\n",
    "pixels = image_h * image_w * 3\n",
    "\n",
    "X = []\n",
    "filenames = []\n",
    "files = glob.glob(caltech_dir+\"/*.*\")\n",
    "for i, f in enumerate(files):\n",
    "    img = Image.open(f)\n",
    "    img = img.convert(\"RGB\")\n",
    "    img = img.resize((image_w, image_h))\n",
    "    data = np.asarray(img)\n",
    "    filenames.append(f)\n",
    "    X.append(data)\n",
    "\n",
    "X = np.array(X)\n",
    "model = load_model('resnet50_camera.h5')\n",
    "\n",
    "prediction = model.predict(X)\n",
    "np.set_printoptions(formatter={'float': lambda x: \"{0:0.3f}\".format(x)})\n",
    "cnt0 = 0\n",
    "cnt1 = 0\n",
    "cnt2 = 0\n",
    "cnt3 = 0 \n",
    "cnt4 = 0\n",
    "cnt5 = 0\n",
    "cnt6 = 0\n",
    "\n",
    "for i in prediction:\n",
    "    pre_ans = i.argmax()  # 예측 레이블\n",
    "    if pre_ans == 0: \n",
    "        cnt0 +=1\n",
    "    elif pre_ans == 1: \n",
    "        cnt1 +=1\n",
    "    elif pre_ans == 2: \n",
    "        cnt2 +=1\n",
    "    elif pre_ans == 3: \n",
    "        cnt3 +=1\n",
    "    cnt4 += 1\n",
    "\n",
    "print(\"%d개, %d개, %d개, %d개 예측하였습니다\"%(cnt4,cnt0,cnt1,cnt2,cnt3))\n",
    "print(\"time :\", time.time() - start)"
   ]
  },
  {
   "cell_type": "code",
   "execution_count": null,
   "metadata": {},
   "outputs": [],
   "source": []
  },
  {
   "cell_type": "code",
   "execution_count": null,
   "metadata": {},
   "outputs": [],
   "source": []
  },
  {
   "cell_type": "code",
   "execution_count": null,
   "metadata": {},
   "outputs": [],
   "source": []
  }
 ],
 "metadata": {
  "kernelspec": {
   "display_name": "Python 3",
   "language": "python",
   "name": "python3"
  },
  "language_info": {
   "codemirror_mode": {
    "name": "ipython",
    "version": 3
   },
   "file_extension": ".py",
   "mimetype": "text/x-python",
   "name": "python",
   "nbconvert_exporter": "python",
   "pygments_lexer": "ipython3",
   "version": "3.8.5"
  }
 },
 "nbformat": 4,
 "nbformat_minor": 2
}
